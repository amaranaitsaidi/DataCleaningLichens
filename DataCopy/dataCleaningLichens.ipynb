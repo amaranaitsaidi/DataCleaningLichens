{
 "cells": [
  {
   "cell_type": "code",
   "execution_count": null,
   "metadata": {
    "pycharm": {
     "name": "#%%\n"
    }
   },
   "outputs": [],
   "source": []
  },
  {
   "cell_type": "code",
   "execution_count": 1,
   "metadata": {
    "pycharm": {
     "name": "#%%\n"
    }
   },
   "outputs": [
    {
     "data": {
      "text/html": [
       "<div>\n",
       "<style scoped>\n",
       "    .dataframe tbody tr th:only-of-type {\n",
       "        vertical-align: middle;\n",
       "    }\n",
       "\n",
       "    .dataframe tbody tr th {\n",
       "        vertical-align: top;\n",
       "    }\n",
       "\n",
       "    .dataframe thead th {\n",
       "        text-align: right;\n",
       "    }\n",
       "</style>\n",
       "<table border=\"1\" class=\"dataframe\">\n",
       "  <thead>\n",
       "    <tr style=\"text-align: right;\">\n",
       "      <th></th>\n",
       "      <th>Identifiant unique</th>\n",
       "      <th>Identifiant</th>\n",
       "      <th>Espèce</th>\n",
       "      <th>Numéro nomenclatural</th>\n",
       "      <th>Nom retenu</th>\n",
       "      <th>Numéro nomenclatural nom retenu</th>\n",
       "      <th>Famille</th>\n",
       "      <th>Référentiel taxonomique</th>\n",
       "      <th>Certitude</th>\n",
       "      <th>Type d'observation</th>\n",
       "      <th>...</th>\n",
       "      <th>ext:longitude-releve</th>\n",
       "      <th>ext:num_arbre</th>\n",
       "      <th>ext:rue</th>\n",
       "      <th>ext:rue-arbres</th>\n",
       "      <th>ext:id_obs_arbre</th>\n",
       "      <th>ext:loc-sur-tronc</th>\n",
       "      <th>ext:com-arbres</th>\n",
       "      <th>ext:latitude-arbres</th>\n",
       "      <th>ext:longitude-arbres</th>\n",
       "      <th>ext:altitude-arbres</th>\n",
       "    </tr>\n",
       "  </thead>\n",
       "  <tbody>\n",
       "    <tr>\n",
       "      <th>0</th>\n",
       "      <td>urn:lsid:tela-botanica.org:cel:3601640</td>\n",
       "      <td>3601640</td>\n",
       "      <td>Celtis australis L. [1753]</td>\n",
       "      <td>14954.0</td>\n",
       "      <td>Celtis australis L. [1753]</td>\n",
       "      <td>14954.0</td>\n",
       "      <td>NaN</td>\n",
       "      <td>bdtfx</td>\n",
       "      <td>certain</td>\n",
       "      <td>observation de terrain</td>\n",
       "      <td>...</td>\n",
       "      <td>2.972345</td>\n",
       "      <td>1.0</td>\n",
       "      <td>Rue de Taxo</td>\n",
       "      <td>Camí del Mas Nou</td>\n",
       "      <td>NaN</td>\n",
       "      <td>NaN</td>\n",
       "      <td>NaN</td>\n",
       "      <td>NaN</td>\n",
       "      <td>NaN</td>\n",
       "      <td>NaN</td>\n",
       "    </tr>\n",
       "    <tr>\n",
       "      <th>1</th>\n",
       "      <td>urn:lsid:tela-botanica.org:cel:3601641</td>\n",
       "      <td>3601641</td>\n",
       "      <td>Celtis australis L. [1753]</td>\n",
       "      <td>14954.0</td>\n",
       "      <td>Celtis australis L. [1753]</td>\n",
       "      <td>14954.0</td>\n",
       "      <td>NaN</td>\n",
       "      <td>bdtfx</td>\n",
       "      <td>certain</td>\n",
       "      <td>observation de terrain</td>\n",
       "      <td>...</td>\n",
       "      <td>2.972345</td>\n",
       "      <td>2.0</td>\n",
       "      <td>Rue de Taxo</td>\n",
       "      <td>Camí del Mas Nou</td>\n",
       "      <td>NaN</td>\n",
       "      <td>NaN</td>\n",
       "      <td>NaN</td>\n",
       "      <td>NaN</td>\n",
       "      <td>NaN</td>\n",
       "      <td>NaN</td>\n",
       "    </tr>\n",
       "    <tr>\n",
       "      <th>2</th>\n",
       "      <td>urn:lsid:tela-botanica.org:cel:3601642</td>\n",
       "      <td>3601642</td>\n",
       "      <td>Celtis australis L. [1753]</td>\n",
       "      <td>14954.0</td>\n",
       "      <td>Celtis australis L. [1753]</td>\n",
       "      <td>14954.0</td>\n",
       "      <td>NaN</td>\n",
       "      <td>bdtfx</td>\n",
       "      <td>certain</td>\n",
       "      <td>observation de terrain</td>\n",
       "      <td>...</td>\n",
       "      <td>2.972345</td>\n",
       "      <td>3.0</td>\n",
       "      <td>Rue de Taxo</td>\n",
       "      <td>Camí del Mas Nou</td>\n",
       "      <td>NaN</td>\n",
       "      <td>NaN</td>\n",
       "      <td>NaN</td>\n",
       "      <td>NaN</td>\n",
       "      <td>NaN</td>\n",
       "      <td>NaN</td>\n",
       "    </tr>\n",
       "    <tr>\n",
       "      <th>3</th>\n",
       "      <td>urn:lsid:tela-botanica.org:cel:3601644</td>\n",
       "      <td>3601644</td>\n",
       "      <td>Xanthoria parietina</td>\n",
       "      <td>59568.0</td>\n",
       "      <td>Xanthoria parietina</td>\n",
       "      <td>59568.0</td>\n",
       "      <td>NaN</td>\n",
       "      <td>taxref</td>\n",
       "      <td>à déterminer</td>\n",
       "      <td>observation de terrain</td>\n",
       "      <td>...</td>\n",
       "      <td>NaN</td>\n",
       "      <td>NaN</td>\n",
       "      <td>Rue de Taxo</td>\n",
       "      <td>NaN</td>\n",
       "      <td>3601642.0</td>\n",
       "      <td>n2;n3;n4;</td>\n",
       "      <td>NaN</td>\n",
       "      <td>NaN</td>\n",
       "      <td>NaN</td>\n",
       "      <td>NaN</td>\n",
       "    </tr>\n",
       "    <tr>\n",
       "      <th>4</th>\n",
       "      <td>urn:lsid:tela-botanica.org:cel:3601645</td>\n",
       "      <td>3601645</td>\n",
       "      <td>Physcia adscendens/tenella</td>\n",
       "      <td>196232.0</td>\n",
       "      <td>Physcia adscendens/tenella</td>\n",
       "      <td>196232.0</td>\n",
       "      <td>NaN</td>\n",
       "      <td>taxref</td>\n",
       "      <td>à déterminer</td>\n",
       "      <td>observation de terrain</td>\n",
       "      <td>...</td>\n",
       "      <td>NaN</td>\n",
       "      <td>NaN</td>\n",
       "      <td>Rue de Taxo</td>\n",
       "      <td>NaN</td>\n",
       "      <td>3601642.0</td>\n",
       "      <td>n1;n2;n3;n4;n5;</td>\n",
       "      <td>NaN</td>\n",
       "      <td>NaN</td>\n",
       "      <td>NaN</td>\n",
       "      <td>NaN</td>\n",
       "    </tr>\n",
       "  </tbody>\n",
       "</table>\n",
       "<p>5 rows × 60 columns</p>\n",
       "</div>"
      ],
      "text/plain": [
       "                       Identifiant unique  Identifiant  \\\n",
       "0  urn:lsid:tela-botanica.org:cel:3601640      3601640   \n",
       "1  urn:lsid:tela-botanica.org:cel:3601641      3601641   \n",
       "2  urn:lsid:tela-botanica.org:cel:3601642      3601642   \n",
       "3  urn:lsid:tela-botanica.org:cel:3601644      3601644   \n",
       "4  urn:lsid:tela-botanica.org:cel:3601645      3601645   \n",
       "\n",
       "                       Espèce  Numéro nomenclatural  \\\n",
       "0  Celtis australis L. [1753]               14954.0   \n",
       "1  Celtis australis L. [1753]               14954.0   \n",
       "2  Celtis australis L. [1753]               14954.0   \n",
       "3         Xanthoria parietina               59568.0   \n",
       "4  Physcia adscendens/tenella              196232.0   \n",
       "\n",
       "                   Nom retenu  Numéro nomenclatural nom retenu Famille  \\\n",
       "0  Celtis australis L. [1753]                          14954.0     NaN   \n",
       "1  Celtis australis L. [1753]                          14954.0     NaN   \n",
       "2  Celtis australis L. [1753]                          14954.0     NaN   \n",
       "3         Xanthoria parietina                          59568.0     NaN   \n",
       "4  Physcia adscendens/tenella                         196232.0     NaN   \n",
       "\n",
       "  Référentiel taxonomique     Certitude      Type d'observation  ...  \\\n",
       "0                   bdtfx       certain  observation de terrain  ...   \n",
       "1                   bdtfx       certain  observation de terrain  ...   \n",
       "2                   bdtfx       certain  observation de terrain  ...   \n",
       "3                  taxref  à déterminer  observation de terrain  ...   \n",
       "4                  taxref  à déterminer  observation de terrain  ...   \n",
       "\n",
       "  ext:longitude-releve  ext:num_arbre      ext:rue    ext:rue-arbres  \\\n",
       "0             2.972345            1.0  Rue de Taxo  Camí del Mas Nou   \n",
       "1             2.972345            2.0  Rue de Taxo  Camí del Mas Nou   \n",
       "2             2.972345            3.0  Rue de Taxo  Camí del Mas Nou   \n",
       "3                  NaN            NaN  Rue de Taxo               NaN   \n",
       "4                  NaN            NaN  Rue de Taxo               NaN   \n",
       "\n",
       "  ext:id_obs_arbre ext:loc-sur-tronc ext:com-arbres  ext:latitude-arbres  \\\n",
       "0              NaN               NaN            NaN                  NaN   \n",
       "1              NaN               NaN            NaN                  NaN   \n",
       "2              NaN               NaN            NaN                  NaN   \n",
       "3        3601642.0         n2;n3;n4;            NaN                  NaN   \n",
       "4        3601642.0   n1;n2;n3;n4;n5;            NaN                  NaN   \n",
       "\n",
       "  ext:longitude-arbres  ext:altitude-arbres  \n",
       "0                  NaN                  NaN  \n",
       "1                  NaN                  NaN  \n",
       "2                  NaN                  NaN  \n",
       "3                  NaN                  NaN  \n",
       "4                  NaN                  NaN  \n",
       "\n",
       "[5 rows x 60 columns]"
      ]
     },
     "execution_count": 1,
     "metadata": {},
     "output_type": "execute_result"
    }
   ],
   "source": [
    "import pandas as pd\n",
    "import numpy as np\n",
    "import seaborn as sns\n",
    "import matplotlib.pyplot as plt\n",
    "import matplotlib.mlab as mlab\n",
    "import matplotlib\n",
    "plt.style.use(\"ggplot\")\n",
    "from matplotlib import figure\n",
    "matplotlib.rcParams['figure.figsize'] = (12,8)\n",
    "import psycopg2\n",
    "pd.options.mode.chained_assignment = None\n",
    "\n",
    "#connect to postgresql\n",
    "\n",
    "# read the data\n",
    "df = pd.read_csv('cel_export.csv', encoding='utf-8',error_bad_lines=False)\n",
    "df_copy = df.copy()\n",
    "df_copy.head()\n",
    "\n",
    "\n"
   ]
  },
  {
   "cell_type": "markdown",
   "metadata": {},
   "source": [
    "# carte de chaleur des valeurs manquantes. jaunes : valeurs manquantes, bleu : valeurs non manquantes"
   ]
  },
  {
   "cell_type": "code",
   "execution_count": 16,
   "metadata": {},
   "outputs": [
    {
     "data": {
      "text/plain": [
       "pandas.core.frame.DataFrame"
      ]
     },
     "execution_count": 16,
     "metadata": {},
     "output_type": "execute_result"
    }
   ],
   "source": [
    "cols = df_copy.columns[df.isnull().mean()>0.5]\n",
    "cols = df_copy.drop(cols, axis=1)\n",
    "\n",
    "type(cols)"
   ]
  },
  {
   "cell_type": "code",
   "execution_count": 17,
   "metadata": {},
   "outputs": [
    {
     "data": {
      "image/png": "[encoded data removed]",
      "text/plain": [
       "<Figure size 864x576 with 2 Axes>"
      ]
     },
     "metadata": {},
     "output_type": "display_data"
    }
   ],
   "source": [
    "cols2 = cols.columns[:] # first 30 columns\n",
    "colours = ['#000099', '#ffff00'] # specify the colours - yellow is missing. blue is not missing.\n",
    "sns.heatmap(df[cols2].isnull(), cmap=sns.color_palette(colours))\n",
    "plt.show()"
   ]
  },
  {
   "cell_type": "markdown",
   "metadata": {},
   "source": [
    "# supression des colonnes null\n"
   ]
  },
  {
   "cell_type": "code",
   "execution_count": null,
   "metadata": {},
   "outputs": [],
   "source": []
  },
  {
   "cell_type": "code",
   "execution_count": 4,
   "metadata": {},
   "outputs": [
    {
     "data": {
      "text/plain": [
       "'\\nLa fonction isna() de pandas permet de détercter les valeurs manquantes dans le dataframe\\nvoir : https://pandas.pydata.org/docs/reference/api/pandas.DataFrame.isna.html\\n'"
      ]
     },
     "execution_count": 4,
     "metadata": {},
     "output_type": "execute_result"
    }
   ],
   "source": [
    "#Pourcentages des valeurs manquantes dans les données\n",
    "\"\"\"\n",
    "La fonction isna() de pandas permet de détercter les valeurs manquantes dans le dataframe\n",
    "voir : https://pandas.pydata.org/docs/reference/api/pandas.DataFrame.isna.html\n",
    "\"\"\""
   ]
  },
  {
   "cell_type": "code",
   "execution_count": 22,
   "metadata": {
    "pycharm": {
     "name": "#%%\n"
    }
   },
   "outputs": [
    {
     "name": "stdout",
     "output_type": "stream",
     "text": [
      "Espèce ==> 0.14%\n",
      "Numéro nomenclatural ==> 20.57%\n",
      "Nom retenu ==> 7.49%\n",
      "Numéro nomenclatural nom retenu ==> 9.29%\n",
      "Référentiel taxonomique ==> 11.24%\n",
      "Identifiant Commune ==> 14.34%\n",
      "Floutage (niveau de localisation diffusé) ==> 11.74%\n",
      "Score IdentiPlante ==> 45.03%\n",
      "ext:id_obs_arbre ==> 14.88%\n",
      "ext:loc-sur-tronc ==> 15.35%\n",
      "None\n"
     ]
    }
   ],
   "source": [
    "def valeur_manquante(df):\n",
    "    \"\"\"\n",
    "    @:param : dataframe\n",
    "    imprime les valeurs manquantes en pct / colonnes\"\"\"\n",
    "    for col in cols.columns:\n",
    "        pct_missing = df[col].isna().mean() * 100\n",
    "        if(pct_missing !=0):\n",
    "            print(\"{} ==> {}%\".format(col, round(pct_missing, 2)))\n",
    "\n",
    "print(valeur_manquante(cols))"
   ]
  },
  {
   "cell_type": "code",
   "execution_count": 23,
   "metadata": {
    "pycharm": {
     "name": "#%%\n"
    }
   },
   "outputs": [
    {
     "name": "stdout",
     "output_type": "stream",
     "text": [
      "<class 'pandas.core.frame.DataFrame'>\n",
      "RangeIndex: 2776 entries, 0 to 2775\n",
      "Data columns (total 34 columns):\n",
      " #   Column                                                        Non-Null Count  Dtype  \n",
      "---  ------                                                        --------------  -----  \n",
      " 0   Identifiant unique                                            2776 non-null   object \n",
      " 1   Identifiant                                                   2776 non-null   int64  \n",
      " 2   Espèce                                                        2772 non-null   object \n",
      " 3   Numéro nomenclatural                                          2205 non-null   float64\n",
      " 4   Nom retenu                                                    2568 non-null   object \n",
      " 5   Numéro nomenclatural nom retenu                               2518 non-null   float64\n",
      " 6   Référentiel taxonomique                                       2464 non-null   object \n",
      " 7   Certitude                                                     2776 non-null   object \n",
      " 8   Type d'observation                                            2776 non-null   object \n",
      " 9   Source de la saisie                                           2776 non-null   object \n",
      " 10  Spontanéité                                                   2776 non-null   int64  \n",
      " 11  Latitude                                                      2776 non-null   float64\n",
      " 12  Longitude                                                     2776 non-null   float64\n",
      " 13  Référentiel Géographique                                      2776 non-null   object \n",
      " 14  Pays                                                          2776 non-null   object \n",
      " 15  Commune                                                       2776 non-null   object \n",
      " 16  Identifiant Commune                                           2378 non-null   float64\n",
      " 17  Floutage (niveau de localisation diffusé)                     2450 non-null   object \n",
      " 18  Altitude                                                      2776 non-null   int64  \n",
      " 19  Date                                                          2776 non-null   object \n",
      " 20  Programme de sciences participatives ou observatoire citoyen  2776 non-null   object \n",
      " 21  Mots Clés                                                     2776 non-null   object \n",
      " 22  Auteur                                                        2776 non-null   object \n",
      " 23  Indicateur de fiabilité                                       2776 non-null   int64  \n",
      " 24  Détermination validée sur IdentiPlante                        2776 non-null   int64  \n",
      " 25  Score IdentiPlante                                            1526 non-null   float64\n",
      " 26  Présence d'un échantillon d'herbier                           2776 non-null   int64  \n",
      " 27  Date Création                                                 2776 non-null   object \n",
      " 28  Date Modification                                             2776 non-null   object \n",
      " 29  Transmis                                                      2776 non-null   object \n",
      " 30  Date Transmission                                             2776 non-null   object \n",
      " 31  ext:rue                                                       2776 non-null   object \n",
      " 32  ext:id_obs_arbre                                              2363 non-null   float64\n",
      " 33  ext:loc-sur-tronc                                             2350 non-null   object \n",
      "dtypes: float64(7), int64(6), object(21)\n",
      "memory usage: 737.5+ KB\n"
     ]
    }
   ],
   "source": [
    "cols.info()          "
   ]
  },
  {
   "cell_type": "code",
   "execution_count": 21,
   "metadata": {},
   "outputs": [
    {
     "name": "stdout",
     "output_type": "stream",
     "text": [
      "Identifiant unique - 0.0%\n",
      "Identifiant - 0.0%\n",
      "Espèce - 0.0%\n",
      "Numéro nomenclatural - 21.0%\n",
      "Nom retenu - 7.0%\n",
      "Numéro nomenclatural nom retenu - 9.0%\n",
      "Famille - 59.0%\n",
      "Référentiel taxonomique - 11.0%\n",
      "Certitude - 0.0%\n",
      "Type d'observation - 0.0%\n",
      "Source de la saisie - 0.0%\n",
      "Spontanéité - 0.0%\n",
      "Latitude - 0.0%\n",
      "Longitude - 0.0%\n",
      "Référentiel Géographique - 0.0%\n",
      "Pays - 0.0%\n",
      "Commune - 0.0%\n",
      "Identifiant Commune - 14.0%\n",
      "Floutage (niveau de localisation diffusé) - 12.0%\n",
      "Altitude - 0.0%\n",
      "Lieu-dit - 100.0%\n",
      "Milieu - 100.0%\n",
      "Date - 0.0%\n",
      "Notes - 92.0%\n",
      "Programme de sciences participatives ou observatoire citoyen - 0.0%\n",
      "Mots Clés - 0.0%\n",
      "Lien vers l'observation sur IdentiPlante - 91.0%\n",
      "Image(s) - 91.0%\n",
      "Auteur - 0.0%\n",
      "Cohérence entre la localité et les coordonnées GPS - 100.0%\n",
      "Précision de la localisation - 100.0%\n",
      "Station - 100.0%\n",
      "Indicateur de fiabilité - 0.0%\n",
      "Détermination validée sur IdentiPlante - 0.0%\n",
      "Score IdentiPlante - 45.0%\n",
      "Abondance - 100.0%\n",
      "Phénologie - 100.0%\n",
      "Présence d'un échantillon d'herbier - 0.0%\n",
      "Date Création - 0.0%\n",
      "Date Modification - 0.0%\n",
      "Transmis - 0.0%\n",
      "Date Transmission - 0.0%\n",
      "Observateur - 99.0%\n",
      "Structure de l'observateur - 100.0%\n",
      "Déterminateur - 100.0%\n",
      "Source bibliographique - 100.0%\n",
      "ext:altitude-releve - 98.0%\n",
      "ext:circonference - 85.0%\n",
      "ext:face-ombre - 85.0%\n",
      "ext:latitude-releve - 86.0%\n",
      "ext:longitude-releve - 86.0%\n",
      "ext:num_arbre - 85.0%\n",
      "ext:rue - 0.0%\n",
      "ext:rue-arbres - 86.0%\n",
      "ext:id_obs_arbre - 15.0%\n",
      "ext:loc-sur-tronc - 15.0%\n",
      "ext:com-arbres - 99.0%\n",
      "ext:latitude-arbres - 100.0%\n",
      "ext:longitude-arbres - 100.0%\n",
      "ext:altitude-arbres - 100.0%\n",
      "created missing indicator for: Espèce\n",
      "created missing indicator for: Numéro nomenclatural\n",
      "created missing indicator for: Nom retenu\n",
      "created missing indicator for: Numéro nomenclatural nom retenu\n",
      "created missing indicator for: Famille\n",
      "created missing indicator for: Référentiel taxonomique\n",
      "created missing indicator for: Identifiant Commune\n",
      "created missing indicator for: Floutage (niveau de localisation diffusé)\n",
      "created missing indicator for: Lieu-dit\n",
      "created missing indicator for: Milieu\n",
      "created missing indicator for: Notes\n",
      "created missing indicator for: Lien vers l'observation sur IdentiPlante\n",
      "created missing indicator for: Image(s)\n",
      "created missing indicator for: Cohérence entre la localité et les coordonnées GPS\n",
      "created missing indicator for: Précision de la localisation\n",
      "created missing indicator for: Station\n",
      "created missing indicator for: Score IdentiPlante\n",
      "created missing indicator for: Abondance\n",
      "created missing indicator for: Phénologie\n",
      "created missing indicator for: Observateur\n",
      "created missing indicator for: Structure de l'observateur\n",
      "created missing indicator for: Déterminateur\n",
      "created missing indicator for: Source bibliographique\n",
      "created missing indicator for: ext:altitude-releve\n",
      "created missing indicator for: ext:circonference\n",
      "created missing indicator for: ext:face-ombre\n",
      "created missing indicator for: ext:latitude-releve\n",
      "created missing indicator for: ext:longitude-releve\n",
      "created missing indicator for: ext:num_arbre\n",
      "created missing indicator for: ext:rue-arbres\n",
      "created missing indicator for: ext:id_obs_arbre\n",
      "created missing indicator for: ext:loc-sur-tronc\n",
      "created missing indicator for: ext:com-arbres\n",
      "created missing indicator for: ext:latitude-arbres\n",
      "created missing indicator for: ext:longitude-arbres\n",
      "created missing indicator for: ext:altitude-arbres\n"
     ]
    }
   ],
   "source": [
    "for col in df.columns:\n",
    "    pct_missing = np.mean(df[col].isnull())\n",
    "    print('{} - {}%'.format(col, round(pct_missing*100)))\n",
    "\n",
    "# first create missing indicator for features with missing data\n",
    "for col in df.columns:\n",
    "    missing = df[col].isnull()\n",
    "    num_missing = np.sum(missing)\n",
    "\n",
    "    if num_missing > 0:\n",
    "        print('created missing indicator for: {}'.format(col))\n",
    "        df['{}_ismissing'.format(col)] = missing"
   ]
  },
  {
   "cell_type": "markdown",
   "metadata": {},
   "source": [
    "# Histogramme des valeurs manquantes "
   ]
  },
  {
   "cell_type": "code",
   "execution_count": null,
   "metadata": {},
   "outputs": [],
   "source": [
    "ismissing_cols = [col for col in df.columns if 'ismissing' in col]\n",
    "df['num_missing'] = df[ismissing_cols].sum(axis=1)\n",
    "df['num_missing'].value_counts().reset_index().sort_values(by='index').plot.bar(x='index', y='num_missing')\n",
    "plt.show()"
   ]
  },
  {
   "cell_type": "code",
   "execution_count": null,
   "metadata": {},
   "outputs": [],
   "source": []
  }
 ],
 "metadata": {
  "kernelspec": {
   "display_name": "Python 3",
   "language": "python",
   "name": "python3"
  },
  "language_info": {
   "codemirror_mode": {
    "name": "ipython",
    "version": 3
   },
   "file_extension": ".py",
   "mimetype": "text/x-python",
   "name": "python",
   "nbconvert_exporter": "python",
   "pygments_lexer": "ipython3",
   "version": "3.8.3"
  }
 },
 "nbformat": 4,
 "nbformat_minor": 5
}
